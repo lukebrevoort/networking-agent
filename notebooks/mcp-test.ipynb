{
 "cells": [
  {
   "cell_type": "markdown",
   "metadata": {},
   "source": [
    "#### Env Var Setup\n",
    "Before starting the MCP experimentation, make sure your `GOOGLE_CALENDAR_CONFIG` variable is properly set up! Please follow the readme instructions or email deansa@tavily.com if you get stuck"
   ]
  },
  {
   "cell_type": "code",
   "execution_count": 13,
   "metadata": {},
   "outputs": [
    {
     "data": {
      "text/plain": [
       "True"
      ]
     },
     "execution_count": 13,
     "metadata": {},
     "output_type": "execute_result"
    }
   ],
   "source": [
    "import os\n",
    "from dotenv import load_dotenv\n",
    "from langchain_openai import ChatOpenAI\n",
    "from mcp_use import MCPAgent, MCPClient\n",
    "load_dotenv()\n"
   ]
  },
  {
   "cell_type": "code",
   "execution_count": 14,
   "metadata": {},
   "outputs": [],
   "source": [
    "google_calendar_config = {\n",
    "  \"mcpServers\": {\n",
    "    \"google-calendar\": {\n",
    "      \"command\": \"node\",\n",
    "      \"args\": [os.getenv(\"GOOGLE_CALENDAR_CONFIG\")]\n",
    "    }\n",
    "  }\n",
    "}"
   ]
  },
  {
   "cell_type": "code",
   "execution_count": 15,
   "metadata": {},
   "outputs": [
    {
     "name": "stdout",
     "output_type": "stream",
     "text": [
      "\n",
      "Result: You don't have any events on May 1, 2025.\n"
     ]
    }
   ],
   "source": [
    "# Create MCPClient from configuration dictionary\n",
    "client = MCPClient.from_dict(google_calendar_config)\n",
    "\n",
    "# Create LLM\n",
    "llm = ChatOpenAI(model=\"gpt-4o\")\n",
    "\n",
    "# Create agent with the client\n",
    "agent = MCPAgent(llm=llm, client=client, max_steps=30)\n",
    "\n",
    "# Run the query\n",
    "result = await agent.run(\n",
    "    \"What events do I have on May 1 2025?\",\n",
    ")\n",
    "print(f\"\\nResult: {result}\")"
   ]
  }
 ],
 "metadata": {
  "kernelspec": {
   "display_name": ".venv",
   "language": "python",
   "name": "python3"
  },
  "language_info": {
   "codemirror_mode": {
    "name": "ipython",
    "version": 3
   },
   "file_extension": ".py",
   "mimetype": "text/x-python",
   "name": "python",
   "nbconvert_exporter": "python",
   "pygments_lexer": "ipython3",
   "version": "3.12.10"
  }
 },
 "nbformat": 4,
 "nbformat_minor": 2
}
