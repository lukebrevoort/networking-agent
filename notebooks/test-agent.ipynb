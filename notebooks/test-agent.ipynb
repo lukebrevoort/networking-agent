{
 "cells": [
  {
   "cell_type": "code",
   "execution_count": 1,
   "metadata": {},
   "outputs": [],
   "source": [
    "import os\n",
    "import sys\n",
    "\n",
    "# Get the absolute path to the project root directory\n",
    "project_root = os.path.abspath(os.path.join(os.path.dirname(\"__file__\"), \"..\"))\n",
    "sys.path.insert(0, project_root)\n",
    "\n",
    "# Now import using absolute import\n",
    "from meeting_prep.agent import MeetingPlanner"
   ]
  },
  {
   "cell_type": "code",
   "execution_count": null,
   "metadata": {},
   "outputs": [],
   "source": [
    "# Create and initialize the meeting planner\n",
    "planner = MeetingPlanner()\n",
    "\n",
    "# Build the graph\n",
    "graph = planner.build_graph()\n",
    "\n",
    "# Run the graph with the given date\n",
    "result = await graph.ainvoke(\n",
    "    {\"date\": \"April 30 2025\"}\n",
    ")"
   ]
  },
  {
   "cell_type": "code",
   "execution_count": null,
   "metadata": {},
   "outputs": [],
   "source": [
    "# Get just the research outputs\n",
    "react_results = result['react_results']\n",
    "for research in react_results:\n",
    "    print(research['output'])\n",
    "    print(\"\\n---\\n\")"
   ]
  }
 ],
 "metadata": {
  "kernelspec": {
   "display_name": "venv",
   "language": "python",
   "name": "python3"
  },
  "language_info": {
   "codemirror_mode": {
    "name": "ipython",
    "version": 3
   },
   "file_extension": ".py",
   "mimetype": "text/x-python",
   "name": "python",
   "nbconvert_exporter": "python",
   "pygments_lexer": "ipython3",
   "version": "3.13.2"
  }
 },
 "nbformat": 4,
 "nbformat_minor": 2
}
